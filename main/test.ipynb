{
 "cells": [
  {
   "cell_type": "code",
   "execution_count": null,
   "metadata": {},
   "outputs": [],
   "source": [
    "#guess\n",
    "from random import choice\n",
    "import turtle as t\n",
    "\n",
    "t.title(\"VIP Guess\")\n",
    "\n",
    "t.clear()\n",
    "t.hideturtle()\n",
    "t.bgcolor(\"brown\")\n",
    "t.pencolor(\"yellow\")\n",
    "\n",
    "def num_choice():   \n",
    "    while True:\n",
    "        num = range(10)\n",
    "        ran_num = choice(num)\n",
    "        attempts = 3\n",
    "        t.penup()\n",
    "        t.goto(0, 0)\n",
    "        answer = t.textinput(\"Guess number...\", f\"Enter a number between 0-10. ({attempts} attempts left.)\")\n",
    "\n",
    "        if answer < ran_num:\n",
    "            attempts -= 1\n",
    "            t.clear()\n",
    "            t.write(f\"Too low. {attempts} attempts left.\", align=\"center\", font=(\"Arial\", 16, \"normal\"))\n",
    "\n",
    "        elif answer > ran_num:\n",
    "            attempts -= 1\n",
    "            t.clear()\n",
    "            t.write(f\"Too high. {attempts} attempts left.\", align=\"center\", font=(\"Arial\", 16, \"normal\"))\n",
    "\n",
    "        elif answer < ran_num and answer == ran_num - 1:\n",
    "            attempts -= 1\n",
    "            t.clear\n",
    "            t.write(f\"Too close but lower. {attempts} attempts left.\", align=\"center\", font=(\"Arial\", 16, \"normal\"))\n",
    "\n",
    "        elif answer > ran_num and answer == ran_num + 1:\n",
    "            attempts -= 1\n",
    "            t.clear\n",
    "            t.write(f\"Too close but higher. {attempts} attempts left.\", align=\"center\", font=(\"Arial\", 16, \"normal\"))\n",
    "\n",
    "        elif answer == ran_num:\n",
    "            t.clear\n",
    "            t.write(f\"You win! The number was {ran_num}\", align=\"center\", font=(\"Arial\", 16, \"normal\"))\n",
    "\n",
    "        else:\n",
    "            t.clear\n",
    "            t.write(\"Please type a number.\", align=\"center\", font=(\"Arial\", 16, \"normal\"))\n",
    "\n",
    "        t.mainloop()\n",
    "\n",
    "exit()"
   ]
  }
 ],
 "metadata": {
  "kernelspec": {
   "display_name": "Python 3",
   "language": "python",
   "name": "python3"
  },
  "language_info": {
   "codemirror_mode": {
    "name": "ipython",
    "version": 3
   },
   "file_extension": ".py",
   "mimetype": "text/x-python",
   "name": "python",
   "nbconvert_exporter": "python",
   "pygments_lexer": "ipython3",
   "version": "3.11.1"
  },
  "orig_nbformat": 4,
  "vscode": {
   "interpreter": {
    "hash": "3bdc28bfc7abfb82b5ec25df007f7387ba45154b838a9d46292e9fbda016417e"
   }
  }
 },
 "nbformat": 4,
 "nbformat_minor": 2
}
