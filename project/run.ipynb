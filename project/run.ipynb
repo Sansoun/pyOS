{
 "cells": [
  {
   "cell_type": "code",
   "execution_count": null,
   "metadata": {},
   "outputs": [],
   "source": [
    "x = 2\n",
    "y = 3\n",
    "print(\"yes {} no {}\".format(x, y))"
   ]
  },
  {
   "cell_type": "code",
   "execution_count": null,
   "metadata": {},
   "outputs": [],
   "source": [
    "from turtle import *\n",
    "\n",
    "Screen()\n",
    "title(\"Game\")\n",
    "bgcolor(\"blue\")\n",
    "setpos(0, 0)\n",
    "\n",
    "def up():\n",
    "    setheading(90)\n",
    "    forward(2)\n",
    " \n",
    " \n",
    "def down():\n",
    "    setheading(270)\n",
    "    forward(2)\n",
    " \n",
    " \n",
    "def left():\n",
    "    setheading(180)\n",
    "    forward(2)\n",
    "\n",
    " \n",
    "def right():\n",
    "    setheading(0)\n",
    "    forward(2)\n",
    " \n",
    " \n",
    "listen()\n",
    "onkey(up, 'Up')\n",
    "onkey(down, 'Down')\n",
    "onkey(left, 'Left')\n",
    "onkey(right, 'Right')\n",
    " \n",
    "mainloop()\n"
   ]
  }
 ],
 "metadata": {
  "kernelspec": {
   "display_name": "Python 3",
   "language": "python",
   "name": "python3"
  },
  "language_info": {
   "codemirror_mode": {
    "name": "ipython",
    "version": 3
   },
   "file_extension": ".py",
   "mimetype": "text/x-python",
   "name": "python",
   "nbconvert_exporter": "python",
   "pygments_lexer": "ipython3",
   "version": "3.11.1"
  },
  "orig_nbformat": 4,
  "vscode": {
   "interpreter": {
    "hash": "3bdc28bfc7abfb82b5ec25df007f7387ba45154b838a9d46292e9fbda016417e"
   }
  }
 },
 "nbformat": 4,
 "nbformat_minor": 2
}
